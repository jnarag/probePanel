{
 "cells": [
  {
   "cell_type": "markdown",
   "id": "9bb888320348b9d3",
   "metadata": {},
   "source": [
    "# Extracting sequences from Genbank for Probe Panel Design"
   ]
  },
  {
   "cell_type": "markdown",
   "id": "d57a6966ac22f167",
   "metadata": {},
   "source": [
    "#### _Non-segmented viruses_\n",
    "\n",
    "Use method: `process_gb` to process non-segmented viruses.\n",
    "\n",
    "This method takes five parameters:\n",
    "\n",
    "1. `gb_file`: string; name of genbank file for a specific virus family or genera\n",
    "2. `working_dir`: string; file path of where you want to save fasta output files\n",
    "3. `virus_family`: string; name of virus family or genera\n",
    "4. `min_length`: int; the minimum sequence length for extracting sequences (shorter sequences will be excluded\n",
    "5. `host_taxafile`: name of text file containing taxonomic names of host of interests e.g. rodentia or shrews.\n",
    "\n",
    "#### _Segmented viruses_\n",
    "\n",
    "For segmented viruses, used method: `process_gb_seg`\n",
    "\n",
    "To run this method, you will need to also specify **two** variables:\n",
    "\n",
    "1. Dictionary containing all the gene or protein names associated with each segment\n",
    "    In the below example, this dictionary object is read from a text file (`hantavirus_segment_dict.txt`)\n",
    "2. Dictionary containing the minimum lengths for each segment sequence\n",
    "    Currently this is hard-coded e.g. \"hantavirus_min_lengths\"\n",
    "\n",
    "The method for processing segments takes the following variables:\n",
    "\n",
    "1. `gb_file`: string; name of genbank file for a specific virus family or genera\n",
    "2. `working_dir`: string; file path of where you want to save fasta output files\n",
    "3. `virus_family`: string; name of virus family or genera\n",
    "4. `segment_lengths`: dict; similar to min_lengths, but instead need to specifiy the minimum sequence lengths for each segment in the genome\n",
    "5. `segment_names`: dict: the gene or protein names associated with e\n",
    "6. `host_taxafile`: name of text file containing taxonomic names of host of interests e.g. rodentia or shrews.\n",
    "\n"
   ]
  },
  {
   "cell_type": "code",
   "id": "f012ee2d9e35e6e6",
   "metadata": {
    "ExecuteTime": {
     "end_time": "2025-09-23T09:58:11.476284Z",
     "start_time": "2025-09-23T09:58:11.383252Z"
    }
   },
   "source": [
    "# load python script\n",
    "\n",
    "from probeSeq import genbank_to_fasta\n"
   ],
   "outputs": [],
   "execution_count": 1
  },
  {
   "cell_type": "markdown",
   "id": "3f58a19ca063104f",
   "metadata": {},
   "source": "## Test example on how to run this code"
  },
  {
   "cell_type": "code",
   "id": "88b1f5bdbec560eb",
   "metadata": {
    "ExecuteTime": {
     "end_time": "2025-09-23T09:58:12.929717Z",
     "start_time": "2025-09-23T09:58:12.924698Z"
    }
   },
   "source": [
    "#### Input files & parameters ####\n",
    "\n",
    "### genbank file (change according to where you have downloaded your genbank file)\n",
    "gb_file = \"test_folder/test.gb\"\n",
    "\n",
    "### File path of directory of where outputs are saved\n",
    "wd = \"test_folder/virus_data\"\n",
    "\n",
    "### name of virus family\n",
    "virus_family = \"hanta\"\n",
    "\n",
    "### minimum sequence length\n",
    "min_length = 500\n",
    "\n",
    "### TAXONOMY LIST\n",
    "host_taxa_filename = \"rodent_taxonomy_list.txt\"\n"
   ],
   "outputs": [],
   "execution_count": 2
  },
  {
   "cell_type": "markdown",
   "id": "b1d209b93158407f",
   "metadata": {},
   "source": "## Extract sequences and metadata for  **<u>non-segmented viruses</u>**"
  },
  {
   "cell_type": "code",
   "id": "968a029bbbcb0f9e",
   "metadata": {},
   "source": [
    "genbank_to_fasta.process_gb(gb_file, wd, virus_family, min_length, host_taxa_filename)"
   ],
   "outputs": [],
   "execution_count": null
  },
  {
   "cell_type": "markdown",
   "id": "3163a103ede3f16f",
   "metadata": {},
   "source": "## Extract sequences and metadata for  **<u>segmented viruses</u>**\n"
  },
  {
   "cell_type": "code",
   "id": "ae7f2d8a5b9fa4ec",
   "metadata": {
    "ExecuteTime": {
     "end_time": "2025-09-22T14:47:21.529902Z",
     "start_time": "2025-09-22T14:47:21.523377Z"
    }
   },
   "source": [
    "# Reads in text file containing alternative names associated with each segment in the genome\n",
    "with open('hantavirus_segment_dict.txt', 'r') as file:\n",
    "    data = file.read()\n",
    "\n",
    "hantavirus_segments = eval(data)\n",
    "\n",
    "# Minimum sequence lengths for each segment\n",
    "hantavirus_min_lengths = {\"S\": 845, \"M\": 2200, \"L\": 4200}"
   ],
   "outputs": [],
   "execution_count": 3
  },
  {
   "cell_type": "code",
   "id": "6fa84865ae5f85b7",
   "metadata": {
    "ExecuteTime": {
     "end_time": "2025-09-22T14:47:25.196174Z",
     "start_time": "2025-09-22T14:47:23.619859Z"
    }
   },
   "source": [
    "virus_family = \"hantaviridae\"\n",
    "genbank_to_fasta.process_gb_seg(gb_file,\n",
    "                                wd,\n",
    "                                virus_family,\n",
    "                                hantavirus_min_lengths,\n",
    "                                hantavirus_segments,\n",
    "                                host_taxa_filename)"
   ],
   "outputs": [],
   "execution_count": 4
  },
  {
   "metadata": {},
   "cell_type": "markdown",
   "source": "If you need to extract alternative protein names for segmented viruses, you can use the following approach. You can use the output to create your own dictionary e.g. `hantavirus_segment_dict`",
   "id": "9a31d2fddaed1041"
  },
  {
   "metadata": {
    "ExecuteTime": {
     "end_time": "2025-09-23T09:58:49.243787Z",
     "start_time": "2025-09-23T09:58:49.200931Z"
    }
   },
   "cell_type": "code",
   "source": "genbank_to_fasta.get_gene_names(gb_file, host_taxa_filename)",
   "id": "2a03f59dc2e3977a",
   "outputs": [
    {
     "data": {
      "text/plain": [
       "['nucleocapsid protein',\n",
       " 'phosphoprotein',\n",
       " 'matrix protein',\n",
       " 'hypothetical protein',\n",
       " 'fusion protein',\n",
       " 'attachment glycoprotein',\n",
       " 'RNA polymerase']"
      ]
     },
     "execution_count": 4,
     "metadata": {},
     "output_type": "execute_result"
    }
   ],
   "execution_count": 4
  }
 ],
 "metadata": {
  "kernelspec": {
   "display_name": "Python 3 (ipykernel)",
   "language": "python",
   "name": "python3"
  },
  "language_info": {
   "codemirror_mode": {
    "name": "ipython",
    "version": 3
   },
   "file_extension": ".py",
   "mimetype": "text/x-python",
   "name": "python",
   "nbconvert_exporter": "python",
   "pygments_lexer": "ipython3",
   "version": "3.10.18"
  }
 },
 "nbformat": 4,
 "nbformat_minor": 5
}
