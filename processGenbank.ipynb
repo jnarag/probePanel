{
 "cells": [
  {
   "metadata": {},
   "cell_type": "markdown",
   "source": "# Extracting sequences from Genbank for Probe Panel Design",
   "id": "9bb888320348b9d3"
  },
  {
   "metadata": {},
   "cell_type": "markdown",
   "source": [
    "#### _Non-segmented viruses_\n",
    "\n",
    "Use method: `process_gb` to process non-segmented viruses.\n",
    "\n",
    "This method takes five parameters:\n",
    "\n",
    "1. `gb_file`: string; name of genbank file for a specific virus family or genera\n",
    "2. `working_dir`: string; file path of where you want to save fasta output files\n",
    "3. `virus_family`: string; name of virus family or genera\n",
    "4. `min_length`: int; the minimum sequence length for extracting sequences (shorter sequences will be excluded\n",
    "5. `host_taxafile`: name of text file containing taxonomic names of host of interests e.g. rodentia or shrews.\n",
    "\n",
    "#### _Segmented viruses_\n",
    "\n",
    "For segmented viruses, used method: `process_gb_seg`\n",
    "\n",
    "To run this method, you will need to also specify **two** variables:\n",
    "\n",
    "1. Dictionary containing all the gene or protein names associated with each segment\n",
    "    In the below example, this dictionary object is read from a text file (`hantavirus_segment_dict.txt`)\n",
    "2. Dictionary containing the minimum lengths for each segment sequence\n",
    "    Currently this is hard-coded e.g. \"hantavirus_min_lengths\"\n",
    "\n",
    "The method for processing segments takes the following variables:\n",
    "\n",
    "1. `gb_file`: string; name of genbank file for a specific virus family or genera\n",
    "2. `working_dir`: string; file path of where you want to save fasta output files\n",
    "3. `virus_family`: string; name of virus family or genera\n",
    "4. `segment_lengths`: dict; similar to min_lengths, but instead need to specifiy the minimum sequence lengths for each segment in the genome\n",
    "5. `segment_names`: dict: the gene or protein names associated with e\n",
    "6. `host_taxafile`: name of text file containing taxonomic names of host of interests e.g. rodentia or shrews.\n",
    "\n"
   ],
   "id": "d57a6966ac22f167"
  },
  {
   "metadata": {
    "ExecuteTime": {
     "end_time": "2025-09-18T10:41:08.836217Z",
     "start_time": "2025-09-18T10:41:08.351073Z"
    }
   },
   "cell_type": "code",
   "source": [
    "# load python script\n",
    "\n",
    "import genbank_to_fasta\n"
   ],
   "id": "f012ee2d9e35e6e6",
   "outputs": [],
   "execution_count": 1
  },
  {
   "metadata": {},
   "cell_type": "code",
   "outputs": [],
   "execution_count": null,
   "source": "",
   "id": "631ecde3f908f3fd"
  },
  {
   "metadata": {
    "ExecuteTime": {
     "end_time": "2025-09-18T10:41:09.696245Z",
     "start_time": "2025-09-18T10:41:09.693084Z"
    }
   },
   "cell_type": "code",
   "source": [
    "#### Input files ####\n",
    "\n",
    "### genbank file\n",
    "gb_file = \"/Users/jayna/Downloads/sequence 2.gb\"\n",
    "\n",
    "### File path of directory\n",
    "wd = \"/Users/jayna/Library/CloudStorage/OneDrive-RoyalVeterinaryCollege/probe_panel_design/virus_data\"\n",
    "\n",
    "### name of virus family\n",
    "virus_family = \"picornaviridae3\"\n",
    "\n",
    "### minimum sequence length\n",
    "min_length = 5000\n",
    "\n",
    "### TAXONOMY LIST\n",
    "host_taxa_filename = \"/Users/jayna/Evolve.Zoo Dropbox/Jayna Raghwani/PycharmProjects/processGenbank/probePanel/taxonomy_result.txt\"\n"
   ],
   "id": "88b1f5bdbec560eb",
   "outputs": [],
   "execution_count": 2
  },
  {
   "metadata": {},
   "cell_type": "markdown",
   "source": "Non-segmented viruses",
   "id": "b1d209b93158407f"
  },
  {
   "metadata": {},
   "cell_type": "code",
   "source": "genbank_to_fasta.process_gb(gb_file, wd, virus_family, min_length, host_taxa_filename)",
   "id": "968a029bbbcb0f9e",
   "outputs": [],
   "execution_count": null
  },
  {
   "metadata": {},
   "cell_type": "markdown",
   "source": "Segmented viruses",
   "id": "3163a103ede3f16f"
  },
  {
   "metadata": {
    "ExecuteTime": {
     "end_time": "2025-09-18T10:19:31.238583Z",
     "start_time": "2025-09-18T10:19:31.232880Z"
    }
   },
   "cell_type": "code",
   "source": [
    "# Reads in text file containing alternative names associated with each segment in the genome\n",
    "with open('hantavirus_segment_dict.txt', 'r') as file:\n",
    "    data = file.read()\n",
    "\n",
    "hantavirus_segments = eval(data)\n",
    "\n",
    "# Minimum sequence lengths for each segment\n",
    "hantavirus_min_lengths = {\"S\": 845, \"M\": 2200, \"L\": 4200}"
   ],
   "id": "ae7f2d8a5b9fa4ec",
   "outputs": [],
   "execution_count": 46
  },
  {
   "metadata": {
    "ExecuteTime": {
     "end_time": "2025-09-18T10:19:34.779012Z",
     "start_time": "2025-09-18T10:19:33.234419Z"
    }
   },
   "cell_type": "code",
   "source": [
    "virus_family = \"hantaviridae\"\n",
    "genbank_to_fasta.process_gb_seg(gb_file,\n",
    "                                wd,\n",
    "                                virus_family,\n",
    "                                hantavirus_min_lengths,\n",
    "                                hantavirus_segments,\n",
    "                                host_taxa_filename)"
   ],
   "id": "6fa84865ae5f85b7",
   "outputs": [],
   "execution_count": 47
  },
  {
   "metadata": {},
   "cell_type": "markdown",
   "source": "",
   "id": "afa9adae642db2d9"
  }
 ],
 "metadata": {
  "kernelspec": {
   "display_name": "Python 3",
   "language": "python",
   "name": "python3"
  },
  "language_info": {
   "codemirror_mode": {
    "name": "ipython",
    "version": 2
   },
   "file_extension": ".py",
   "mimetype": "text/x-python",
   "name": "python",
   "nbconvert_exporter": "python",
   "pygments_lexer": "ipython2",
   "version": "2.7.6"
  }
 },
 "nbformat": 4,
 "nbformat_minor": 5
}
