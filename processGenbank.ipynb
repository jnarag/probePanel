{
 "cells": [
  {
   "cell_type": "markdown",
   "id": "9bb888320348b9d3",
   "metadata": {},
   "source": [
    "# Extracting sequences from Genbank for Probe Panel Design"
   ]
  },
  {
   "cell_type": "markdown",
   "id": "d57a6966ac22f167",
   "metadata": {},
   "source": [
    "#### _Non-segmented viruses_\n",
    "\n",
    "Use method: `process_gb` to process non-segmented viruses.\n",
    "\n",
    "This method takes five parameters:\n",
    "\n",
    "1. `gb_file`: string; name of genbank file for a specific virus family or genera\n",
    "2. `working_dir`: string; file path of where you want to save fasta output files\n",
    "3. `virus_family`: string; name of virus family or genera\n",
    "4. `min_length`: int; the minimum sequence length for extracting sequences (shorter sequences will be excluded\n",
    "5. `host_taxafile`: name of text file containing taxonomic names of host of interests e.g. rodentia or shrews.\n",
    "\n",
    "#### _Segmented viruses_\n",
    "\n",
    "For segmented viruses, used method: `process_gb_seg`\n",
    "\n",
    "To run this method, you will need to also specify **two** variables:\n",
    "\n",
    "1. Dictionary containing all the gene or protein names associated with each segment\n",
    "    In the below example, this dictionary object is read from a text file (`hantavirus_segment_dict.txt`)\n",
    "2. Dictionary containing the minimum lengths for each segment sequence\n",
    "    Currently this is hard-coded e.g. \"hantavirus_min_lengths\"\n",
    "\n",
    "The method for processing segments takes the following variables:\n",
    "\n",
    "1. `gb_file`: string; name of genbank file for a specific virus family or genera\n",
    "2. `working_dir`: string; file path of where you want to save fasta output files\n",
    "3. `virus_family`: string; name of virus family or genera\n",
    "4. `segment_lengths`: dict; similar to min_lengths, but instead need to specifiy the minimum sequence lengths for each segment in the genome\n",
    "5. `segment_names`: dict: the gene or protein names associated with e\n",
    "6. `host_taxafile`: name of text file containing taxonomic names of host of interests e.g. rodentia or shrews.\n",
    "\n"
   ]
  },
  {
   "cell_type": "code",
   "execution_count": 1,
   "id": "f012ee2d9e35e6e6",
   "metadata": {
    "ExecuteTime": {
     "end_time": "2025-09-22T10:42:50.100991Z",
     "start_time": "2025-09-22T10:42:49.902892Z"
    }
   },
   "outputs": [],
   "source": [
    "# load python script\n",
    "\n",
    "from probeSeq import genbank_to_fasta\n"
   ]
  },
  {
   "cell_type": "markdown",
   "id": "3f58a19ca063104f",
   "metadata": {},
   "source": [
    "Input files:"
   ]
  },
  {
   "cell_type": "code",
   "execution_count": 6,
   "id": "88b1f5bdbec560eb",
   "metadata": {
    "ExecuteTime": {
     "end_time": "2025-09-22T10:44:37.931955Z",
     "start_time": "2025-09-22T10:44:37.927559Z"
    }
   },
   "outputs": [],
   "source": [
    "#### Input files ####\n",
    "\n",
    "### genbank file (change according to where you have downloaded your genbank file)\n",
    "gb_file = \"test_folder/test.gb\"\n",
    "\n",
    "### File path of directory of where outputs are saved\n",
    "wd = \"test_folder/virus_data\"\n",
    "\n",
    "### name of virus family\n",
    "virus_family = \"test_family\"\n",
    "\n",
    "### minimum sequence length\n",
    "min_length = 500\n",
    "\n",
    "### TAXONOMY LIST\n",
    "host_taxa_filename = \"rodent_taxonomy_list.txt\"\n"
   ]
  },
  {
   "cell_type": "markdown",
   "id": "b1d209b93158407f",
   "metadata": {},
   "source": [
    "Extract sequences and metadata for  **<u>non-segmented viruses</u>**"
   ]
  },
  {
   "cell_type": "code",
   "execution_count": 7,
   "id": "968a029bbbcb0f9e",
   "metadata": {
    "ExecuteTime": {
     "end_time": "2025-09-22T10:44:41.615679Z",
     "start_time": "2025-09-22T10:44:41.587808Z"
    }
   },
   "outputs": [],
   "source": [
    "genbank_to_fasta.process_gb(gb_file, wd, virus_family, min_length, host_taxa_filename)"
   ]
  },
  {
   "cell_type": "markdown",
   "id": "3163a103ede3f16f",
   "metadata": {},
   "source": [
    "Extract sequences and metadata for  **<u>segmented viruses</u>**"
   ]
  },
  {
   "cell_type": "code",
   "execution_count": 46,
   "id": "ae7f2d8a5b9fa4ec",
   "metadata": {
    "ExecuteTime": {
     "end_time": "2025-09-18T10:19:31.238583Z",
     "start_time": "2025-09-18T10:19:31.232880Z"
    }
   },
   "outputs": [],
   "source": [
    "# Reads in text file containing alternative names associated with each segment in the genome\n",
    "with open('hantavirus_segment_dict.txt', 'r') as file:\n",
    "    data = file.read()\n",
    "\n",
    "hantavirus_segments = eval(data)\n",
    "\n",
    "# Minimum sequence lengths for each segment\n",
    "hantavirus_min_lengths = {\"S\": 845, \"M\": 2200, \"L\": 4200}"
   ]
  },
  {
   "cell_type": "code",
   "execution_count": 47,
   "id": "6fa84865ae5f85b7",
   "metadata": {
    "ExecuteTime": {
     "end_time": "2025-09-18T10:19:34.779012Z",
     "start_time": "2025-09-18T10:19:33.234419Z"
    }
   },
   "outputs": [],
   "source": [
    "virus_family = \"hantaviridae\"\n",
    "genbank_to_fasta.process_gb_seg(gb_file,\n",
    "                                wd,\n",
    "                                virus_family,\n",
    "                                hantavirus_min_lengths,\n",
    "                                hantavirus_segments,\n",
    "                                host_taxa_filename)"
   ]
  },
  {
   "cell_type": "markdown",
   "id": "afa9adae642db2d9",
   "metadata": {},
   "source": []
  }
 ],
 "metadata": {
  "kernelspec": {
   "display_name": "Python 3 (ipykernel)",
   "language": "python",
   "name": "python3"
  },
  "language_info": {
   "codemirror_mode": {
    "name": "ipython",
    "version": 3
   },
   "file_extension": ".py",
   "mimetype": "text/x-python",
   "name": "python",
   "nbconvert_exporter": "python",
   "pygments_lexer": "ipython3",
   "version": "3.10.18"
  }
 },
 "nbformat": 4,
 "nbformat_minor": 5
}
